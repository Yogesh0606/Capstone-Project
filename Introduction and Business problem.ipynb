{
    "cells": [
        {
            "cell_type": "markdown",
            "metadata": {},
            "source": "<H1>The Battle of Neighborhoods Week 1</H1>"
        },
        {
            "cell_type": "markdown",
            "metadata": {},
            "source": "<H3>Introduction and Business problem</H3>"
        },
        {
            "cell_type": "markdown",
            "metadata": {},
            "source": "<H4>Problem Background: </H4>"
        },
        {
            "cell_type": "markdown",
            "metadata": {},
            "source": "<p>The New york city, is the most populous city as compared to other cities in United States. It is multicultural. It is diverse and financial capital of USA. If we talk about the business opportunities in this city due to its multicultural and populousness there are lots of business opportunities. It would not be wrong to say the market is highly competitive it is because it is attracted many different and new players in the market.The city is major center for banking and finance, retailing, transportation, world trade, tourism, theatre, fashion, real estate, restaurants, etc. in the United States.</p>\nAs it is highly developed city so cost of doing business is also one of the highhest. Thus, any new business or expansion needs to be analysed carefully. The insight derived from analysis will give good understanding of the business enviroment which help in strategically targeting the market. This will help to reduce the risk and the return on investment will be profitable."
        },
        {
            "cell_type": "markdown",
            "metadata": {},
            "source": "<H4>Problem Description:</H4>"
        },
        {
            "cell_type": "markdown",
            "metadata": {},
            "source": "A restaurant is a business which prepares and serves food and drink to customers in return for money, either paid before the meal, after the meal, or with an open account. The City of New York is famous for its excelllent cuisine. It's food culture includes an array of international cuisines influenced by the city's immigrant history.\n<ul>\n  <li>Central and Eastern European immigrants, especially Jewish immigrants - bagels, cheesecake, hot dogs, knishes, and delicatessens</li>\n  <li>Italian immigrants - New York-style pizza and Italian cuisine</li>\n  <li>Italian immigrants - New York-style pizza and Italian cuisine</li>\n    <li>Jewish immigrants and Irish immigrants - pastrami and corned beef</li>\n    <li>Chinese and other Asian restaurants, sandwich joints, trattorias, diners, and coffeehouses are ubiquitous throughout the city</li>\n    <li>mobile food vendors - Some 4,000 licensed by the city</li>\n    <li>Middle Eastern foods such as falafel and kebabs examples of modern New York street food</li>\n    <li>It is famous for not just Pizzerias, Cafe's but also for fine dining Michelin starred restaurants.The city is home to \"nearly one thousand of the finest and most diverse haute cuisine restaurants in the world\", according to Michelin.</li>\n</ul>\n\nSo it is evident that to survive in such competitive market it is very important to startegically plan. Various factors need to be studied inorder to decide on the Location such as :\n<ul>\n    <li>New York Population.</li>\n    <li>New York City Demographics.</li>\n    <li>Are there any Farmers Markets, Wholesale markets etc nearby so that the ingredients can be purchased fresh to maintain quality and cost?</li>\n    <li>Are there any venues like Gyms, Entertainmnet zones, Parks etc nearby where floating population is high etc.</li>\n    <li>Who are the competitors in that location?</li>\n    <li>Cuisine served / Menu of the competitors</li>\n    <li>Segmentation of the Borough</li>\n    <li>Untapped markets</li>\n    <li>Saturated markets etc</li>\n</ul>\nEventhough well funded ABC Company Ltd. need to choose the correct location to start its first venture.If this is successful they can replicate the same in other locations. First move is very important, thereby choice of location is very important."
        },
        {
            "cell_type": "markdown",
            "metadata": {},
            "source": "<H4>Target Audience:</H4>"
        },
        {
            "cell_type": "markdown",
            "metadata": {},
            "source": "To recommend the correct location, ABC Company Ltd has appointed me to lead of the Data Science team. The objective is to locate and recommend to the management which neighborhood of Newyork city will be best choice to start a restaurant. The Management also expects to understand the rationale of the recommendations made.\n\nThis would interest anyone who wants to start a new restaurant in Newyork city."
        },
        {
            "cell_type": "markdown",
            "metadata": {},
            "source": "<H4>Success Criteria</H4>"
        },
        {
            "cell_type": "markdown",
            "metadata": {},
            "source": "The success criteria of the project will be a good recommendation of borough/Neighborhood choice to ABC Company Ltd based on Lack of such restaurants in that location and nearest suppliers of ingredients."
        }
    ],
    "metadata": {
        "kernelspec": {
            "display_name": "Python 3.6",
            "language": "python",
            "name": "python3"
        },
        "language_info": {
            "codemirror_mode": {
                "name": "ipython",
                "version": 3
            },
            "file_extension": ".py",
            "mimetype": "text/x-python",
            "name": "python",
            "nbconvert_exporter": "python",
            "pygments_lexer": "ipython3",
            "version": "3.6.9"
        }
    },
    "nbformat": 4,
    "nbformat_minor": 2
}